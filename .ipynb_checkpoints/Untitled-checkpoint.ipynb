{
 "cells": [
  {
   "cell_type": "code",
   "execution_count": 1,
   "id": "74c2a8c6",
   "metadata": {},
   "outputs": [],
   "source": [
    "import matplotlib.pyplot as plt\n",
    "import numpy as np"
   ]
  },
  {
   "cell_type": "code",
   "execution_count": 5,
   "id": "4e40641e",
   "metadata": {},
   "outputs": [],
   "source": [
    "def read_data(fname):\n",
    "    A = []\n",
    "    with open(fname) as f:\n",
    "        for line in f:\n",
    "            A.append([float(num) for num in line.split(',')[:-1]])\n",
    "    return A"
   ]
  },
  {
   "cell_type": "code",
   "execution_count": 41,
   "id": "7da117d1",
   "metadata": {},
   "outputs": [],
   "source": [
    "def plot_data(A):\n",
    "    nx = len(A[0])\n",
    "    ny = len(A)\n",
    "\n",
    "    x = list(range(nx))\n",
    "    y = list(range(ny))\n",
    "    X = [x for i in range(ny)]\n",
    "    Y = [[y[i]]*nx for i in range(ny)]\n",
    "    \n",
    "    fig = plt.figure(figsize=(22,11)) \n",
    "    ax1 = fig.add_subplot(121)\n",
    "    ax1.pcolormesh(X, Y, A,cmap=\"Greys\", shading='auto')\n",
    "    ax1.set_aspect('equal')"
   ]
  },
  {
   "cell_type": "code",
   "execution_count": 48,
   "id": "a72bcf59",
   "metadata": {},
   "outputs": [],
   "source": [
    "A = read_data('ZBufferSaves/save1.txt')"
   ]
  },
  {
   "cell_type": "code",
   "execution_count": 49,
   "id": "e4e2b61d",
   "metadata": {},
   "outputs": [
    {
     "data": {
      "image/png": "[encoded data removed]",
      "text/plain": [
       "<Figure size 1584x792 with 1 Axes>"
      ]
     },
     "metadata": {
      "needs_background": "light"
     },
     "output_type": "display_data"
    }
   ],
   "source": [
    "plot_data(A)"
   ]
  },
  {
   "cell_type": "code",
   "execution_count": null,
   "id": "8e9b385d",
   "metadata": {},
   "outputs": [],
   "source": []
  }
 ],
 "metadata": {
  "kernelspec": {
   "display_name": "Python 3",
   "language": "python",
   "name": "python3"
  },
  "language_info": {
   "codemirror_mode": {
    "name": "ipython",
    "version": 3
   },
   "file_extension": ".py",
   "mimetype": "text/x-python",
   "name": "python",
   "nbconvert_exporter": "python",
   "pygments_lexer": "ipython3",
   "version": "3.8.8"
  }
 },
 "nbformat": 4,
 "nbformat_minor": 5
}
